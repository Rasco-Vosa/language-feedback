{
 "cells": [
  {
   "cell_type": "code",
   "execution_count": 2,
   "id": "f3a9da48",
   "metadata": {},
   "outputs": [],
   "source": [
    "import azure.cognitiveservices.speech as speechsdk\n",
    "import sys, os\n",
    "sys.path.insert(0, '..')\n",
    "from src.config_loader import Config"
   ]
  },
  {
   "cell_type": "code",
   "execution_count": 3,
   "id": "1a20f35d",
   "metadata": {},
   "outputs": [
    {
     "name": "stdout",
     "output_type": "stream",
     "text": [
      "c:\\Users\\vasco.rosa\\Documents\\Github\\language-feedback\\notebooks\n"
     ]
    }
   ],
   "source": [
    "print(os.getcwd())"
   ]
  },
  {
   "cell_type": "code",
   "execution_count": 6,
   "id": "c19603fb",
   "metadata": {},
   "outputs": [],
   "source": [
    "config = Config('../config/settings.yaml', creds_path='../config/.env')\n",
    "config.load_creds()\n",
    "speech_config = speechsdk.SpeechConfig(\n",
    "    subscription=os.getenv(\"AZURE_TTS_KEY\"),\n",
    "    region=config.get_setting(\"azure_region\")\n",
    ")"
   ]
  },
  {
   "cell_type": "code",
   "execution_count": 7,
   "id": "967dd58a",
   "metadata": {},
   "outputs": [],
   "source": [
    "pronunciation_config = speechsdk.PronunciationAssessmentConfig(\n",
    "    reference_text=\"\",\n",
    "    grading_system=speechsdk.PronunciationAssessmentGradingSystem.HundredMark,\n",
    "    granularity=speechsdk.PronunciationAssessmentGranularity.Phoneme,\n",
    "    enable_miscue=False)\n",
    "pronunciation_config.enable_prosody_assessment()"
   ]
  },
  {
   "cell_type": "code",
   "execution_count": 8,
   "id": "d20bc322",
   "metadata": {},
   "outputs": [
    {
     "name": "stdout",
     "output_type": "stream",
     "text": [
      "Pronunciation Score: 86.4\n",
      "Accuracy Score: 88.0\n",
      "Fluency Score: 91.0\n",
      "Completeness Score: 88.0\n",
      "Prosody Score: 82.5\n"
     ]
    }
   ],
   "source": [
    "# Set your reference text and audio file path\n",
    "reference_text = \"White attended South High School in Denver, Co.\"\n",
    "audio_file_path = \"../data/raw/audio_test.wav\"  # Update with your actual file\n",
    "\n",
    "# Update the pronunciation config with the reference text\n",
    "pronunciation_config.reference_text = reference_text\n",
    "\n",
    "# Create audio config and recognizer\n",
    "audio_config = speechsdk.AudioConfig(filename=audio_file_path)\n",
    "recognizer = speechsdk.SpeechRecognizer(speech_config=speech_config, audio_config=audio_config)\n",
    "\n",
    "# Apply pronunciation assessment config\n",
    "pronunciation_config.apply_to(recognizer)\n",
    "\n",
    "# Run recognition and get result\n",
    "result = recognizer.recognize_once_async().get()\n",
    "\n",
    "# Print the pronunciation assessment result\n",
    "if result.reason == speechsdk.ResultReason.RecognizedSpeech:\n",
    "    pron_result = speechsdk.PronunciationAssessmentResult(result)\n",
    "    print(\"Pronunciation Score:\", pron_result.pronunciation_score)\n",
    "    print(\"Accuracy Score:\", pron_result.accuracy_score)\n",
    "    print(\"Fluency Score:\", pron_result.fluency_score)\n",
    "    print(\"Completeness Score:\", pron_result.completeness_score)\n",
    "    print(\"Prosody Score:\", pron_result.prosody_score)\n",
    "else:\n",
    "    print(\"Speech not recognized or error occurred:\", result.reason)"
   ]
  }
 ],
 "metadata": {
  "kernelspec": {
   "display_name": ".venv",
   "language": "python",
   "name": "python3"
  },
  "language_info": {
   "codemirror_mode": {
    "name": "ipython",
    "version": 3
   },
   "file_extension": ".py",
   "mimetype": "text/x-python",
   "name": "python",
   "nbconvert_exporter": "python",
   "pygments_lexer": "ipython3",
   "version": "3.13.7"
  }
 },
 "nbformat": 4,
 "nbformat_minor": 5
}
